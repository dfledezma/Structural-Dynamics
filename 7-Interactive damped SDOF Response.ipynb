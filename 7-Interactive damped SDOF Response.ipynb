{
 "cells": [
  {
   "cell_type": "code",
   "execution_count": 1,
   "id": "6264a00b",
   "metadata": {},
   "outputs": [],
   "source": [
    "# import the IPython widgets\n",
    "from ipywidgets import interact\n",
    "import ipywidgets as widgets\n",
    "import matplotlib.pyplot as plt\n",
    "import numpy as np "
   ]
  },
  {
   "cell_type": "code",
   "execution_count": 2,
   "id": "d1c1acc9",
   "metadata": {},
   "outputs": [],
   "source": [
    "# Define system Parameters\n",
    "m = 1.0                   # kg\n",
    "k = 1.0                   # N/m \n",
    "wn = np.sqrt(k/m)         # Natural Frequency (rad/s)\n",
    "z = 0.05                  # Viscous damping ratio\n",
    "c = 2*z*wn*m              # Damping constant (N/(m/s))\n",
    "wd = wn*np.sqrt(1 - z**2) # Damped natural frequency (rad/s)"
   ]
  },
  {
   "cell_type": "code",
   "execution_count": 9,
   "id": "33382562",
   "metadata": {},
   "outputs": [],
   "source": [
    "# Define time and initial conditions \n",
    "\n",
    "# Set up simulation parameters\n",
    "t = np.linspace(0, 50, 2000)          # Time for simulation, 0-5s with 501 points in-between\n",
    "\n",
    "# Define the initial conditions x(0) = 1 and x_dot(0) = 0\n",
    "x0 = np.array([1.0, 1.0])"
   ]
  },
  {
   "cell_type": "code",
   "execution_count": 10,
   "id": "f43d9dd5",
   "metadata": {},
   "outputs": [
    {
     "data": {
      "application/vnd.jupyter.widget-view+json": {
       "model_id": "f8f986586d844cadbfaf23bc15541810",
       "version_major": 2,
       "version_minor": 0
      },
      "text/plain": [
       "interactive(children=(FloatSlider(value=1.0, description='f', max=1.8, min=0.2, step=0.01), FloatSlider(value=…"
      ]
     },
     "metadata": {},
     "output_type": "display_data"
    }
   ],
   "source": [
    "\n",
    "\n",
    "# Set up the function that plots the repsonse based on slider changes\n",
    "def plot_response(f = 1.0, z = 0.05):\n",
    "    # Set figure parameters\n",
    "    fig = plt.figure(figsize=(9, 6))\n",
    "    ax = plt.gca()\n",
    "    plt.subplots_adjust(bottom=0.17, left=0.17, top=0.96, right=0.96)\n",
    "    plt.setp(ax.get_ymajorticklabels(), family='serif', fontsize=18)\n",
    "    plt.setp(ax.get_xmajorticklabels(), family='serif', fontsize=18)\n",
    "    ax.spines['right'].set_color('none')\n",
    "    ax.spines['top'].set_color('none')\n",
    "    ax.xaxis.set_ticks_position('bottom')\n",
    "    ax.yaxis.set_ticks_position('left')\n",
    "    ax.grid(True, linestyle=':', color='0.75')\n",
    "    ax.set_axisbelow(True)\n",
    "    \n",
    "    wn = 2 * np.pi * f\n",
    "    wd = wn * np.sqrt(1 - z**2)\n",
    "    \n",
    "    # Define x(t)\n",
    "    x = np.exp(-z * wn * t) * (x0[0] * np.cos(wd*t) + (z * wn * x0[0] + x0[1])/wd * np.sin(wd*t))\n",
    "    \n",
    "    plt.plot(t, x, linewidth=2)\n",
    "    plt.xlabel('Time (s)',family='serif', fontsize=22, weight='bold', labelpad=5)\n",
    "    plt.ylabel('Position (m)',family='serif', fontsize=22, weight='bold', labelpad=10)\n",
    "    plt.ylim(-1.1, 1.1)\n",
    "    plt.xlim(0, 5)\n",
    "    \n",
    "\n",
    "# Call the slider interaction\n",
    "#  f is changes in frequency, allowing between 0.2 and 1.8Hz at 0.1Hz increments\n",
    "#  z is damping ratio, allowing between 0 and 0.9 and 0.05 increments\n",
    "interact(plot_response, f=(0.2, 1.8, 0.01), z = (0, 0.9, 0.01));"
   ]
  },
  {
   "cell_type": "code",
   "execution_count": null,
   "id": "84569cbd",
   "metadata": {},
   "outputs": [],
   "source": []
  }
 ],
 "metadata": {
  "kernelspec": {
   "display_name": "Python 3 (ipykernel)",
   "language": "python",
   "name": "python3"
  },
  "language_info": {
   "codemirror_mode": {
    "name": "ipython",
    "version": 3
   },
   "file_extension": ".py",
   "mimetype": "text/x-python",
   "name": "python",
   "nbconvert_exporter": "python",
   "pygments_lexer": "ipython3",
   "version": "3.9.12"
  }
 },
 "nbformat": 4,
 "nbformat_minor": 5
}
