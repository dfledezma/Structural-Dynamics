{
 "cells": [
  {
   "cell_type": "markdown",
   "id": "306dc413",
   "metadata": {},
   "source": [
    "Fourier theorem states that a periodic signal can be decomposed into a infinite sum of sines and cosines as:\n",
    "\n",
    "$\\quad f(t) = a_0+ \\sum_{n=0}^{\\infty}a_n\\cos(n\\omega_0t) + b_n\\sin(n\\omega_0t)$\n",
    "\n",
    "Where the terms $a_0$, $a_n$, and $b_n$ are given by the integrals:\n",
    "\n",
    "$\\quad a_n = \\frac{\\omega_0}{\\pi}\\int_0^{\\frac{2\\pi}{\\omega_0}}f(t)\\cos(n\\omega_0t)dt$\n",
    "\n",
    "$\\quad b_n = \\frac{\\omega_0}{\\pi}\\int_0^{\\frac{2\\pi}{\\omega_0}}f(t)\\sin(n\\omega_0t)dt$\n",
    "\n",
    "$\\quad a_0 = \\frac{\\omega_0}{2\\pi}\\int_0^{\\frac{2\\pi}{\\omega_0}}f(t)dt$"
   ]
  },
  {
   "cell_type": "code",
   "execution_count": 1,
   "id": "accecb21",
   "metadata": {},
   "outputs": [],
   "source": [
    "# This is how comments are declared, useful for keeping track\n",
    "\n",
    "# First, import modules to be used\n",
    "import numpy as np    # numpy is the main module for numeric calculations, which will be called as np\n",
    "\n",
    "# Figures will be presented inline\n",
    "%matplotlib inline\n",
    "\n",
    "# Import matplotlib abd call it as plt \n",
    "import matplotlib.pyplot as plt"
   ]
  },
  {
   "cell_type": "code",
   "execution_count": 2,
   "id": "ded3abc7",
   "metadata": {},
   "outputs": [],
   "source": [
    "# Select the function to analyze, i.e. rectangular, trapezoidal, or tiangular\n",
    "\n",
    "# Rectangular function\n",
    "t = np.linspace(0,4,4001)             # Define time, one period in this example\n",
    "w0 = 2.0*np.pi/4.0                    # Set fundamental frequency, already known from the period\n",
    "tau_0 = 2.0*np.pi/w0                  # Set fundamental period\n",
    "\n",
    "y = (t > 0) - 2 * (t>2)\n",
    "\n",
    "\n",
    "\n",
    "# Trapezoidal function\n",
    "# Defined with if/elif/else strucutre \n",
    "#\n",
    "#t = np.linspace(0,4,4000)           # define the time to look at, easiest to just choose 1 period\n",
    "#w0 = 2*np.pi/t[-1]                  # define the fundamental frequency (here, I know t(end)=tau)\n",
    "#tau_0 = 2*np.pi/w0                  # define fundamental period based on w0\n",
    "#\n",
    "#F0 = 1\n",
    "#y = np.zeros((len(t),))\n",
    "#\n",
    "#for ii in range(len(t)):\n",
    "#    if t[ii] <= tau_0/3:\n",
    "#      y[ii] = 3*F0/tau_0*t[ii]\n",
    "#    elif t[ii] <= 2*tau_0/3:\n",
    "#       y[ii] = F0\n",
    "#    else:\n",
    "#      y[ii] = -3*F0/tau_0*t[ii]+3*F0\n",
    "\n",
    "# Triangular function\n",
    "#F0 = 1.0\n",
    "#y = (F0/2 * t)*(t < 2.0) + (-F0/2 * t + 2 * F0)*(t > 2.0)*(t < 4.0)\n",
    "\n",
    "\n"
   ]
  },
  {
   "cell_type": "code",
   "execution_count": 5,
   "id": "d06880a2",
   "metadata": {},
   "outputs": [],
   "source": [
    "# import the IPython widgets\n",
    "from ipywidgets.widgets import interact\n",
    "from ipywidgets import widgets  # Widget definitions\n",
    "from IPython.display import display # Used to display widgets in the notebook\n",
    "\n",
    "# Set up the function that plots the response based on slider changes\n",
    "def plot_approx(num_terms = 11):\n",
    "\n",
    "# Calculation of Fourier terms\n",
    "#\n",
    "# Use SciPy trapz command as trapz(y,t)\n",
    "\n",
    "\n",
    "\n",
    "    #  Calculate a0\n",
    "    a0 = w0/(2.0*np.pi)*np.trapz(y,t)  \n",
    "\n",
    "    # Zero padding, good for faster computation  \n",
    "    a = np.zeros((num_terms,))\n",
    "    b = np.zeros((num_terms,))\n",
    "    integral_cos = np.zeros((len(t),num_terms))\n",
    "    integral_sin = np.zeros((len(t),num_terms))\n",
    "    sin_term = np.zeros((num_terms,len(t)))\n",
    "    cos_term = np.zeros((num_terms,len(t)))\n",
    "\n",
    "    # Calculte a_n and b_n from 1 to n using a loop\n",
    "    for n in range(num_terms):\n",
    "\n",
    "        # Obtain a_n terms\n",
    "        integral_cos[:,n] = y * np.cos((n+1)*w0*t)         # Function to integrate\n",
    "        a[n] = w0/np.pi * np.trapz(integral_cos[:,n],t)    # solve for a_n\n",
    "\n",
    "        # Obtain b_n terms\n",
    "        integral_sin[:,n] = y * np.sin((n+1)*w0*t)         # Function to integrate\n",
    "        b[n] = w0/np.pi * np.trapz(integral_sin[:,n],t)    # solve for b_n\n",
    "    \n",
    "        sin_term[n,:] = np.sin((n+1)*w0*t)                 # calculate the nth sine term\n",
    "        cos_term[n,:] = np.cos((n+1)*w0*t)                 # calculate the nth cosine term\n",
    "\n",
    "    # Reconstruct the approximate function by adding the harmonics\n",
    "    approx = np.zeros_like(t) \n",
    "    for ii in range(len(t)):\n",
    "        approx[ii] = a0 + np.sum(a * cos_term[:,ii],0) + np.sum(b * sin_term[:,ii],0)\n",
    "        \n",
    "    # Plot the results, with some modifications for better display\n",
    "    fig = plt.figure(figsize=(9,6))\n",
    "    ax = plt.gca()\n",
    "    plt.subplots_adjust(bottom=0.17,left=0.17,top=0.96,right=0.96)\n",
    "    plt.setp(ax.get_ymajorticklabels(),family='serif',fontsize=18)\n",
    "    plt.setp(ax.get_xmajorticklabels(),family='serif',fontsize=18)\n",
    "    ax.spines['right'].set_color('none')\n",
    "    ax.spines['top'].set_color('none')\n",
    "    ax.xaxis.set_ticks_position('bottom')\n",
    "    ax.yaxis.set_ticks_position('left')\n",
    "    ax.grid(True,linestyle=':',color='0.75')\n",
    "    ax.set_axisbelow(True)\n",
    "\n",
    "    plt.xlabel(r'Time (s)', family='serif', fontsize=22, weight='bold', labelpad=5)\n",
    "    plt.ylabel(r'$y(t)$', family='serif', fontsize=22, weight='bold', labelpad=10)\n",
    "\n",
    "    plt.plot(t, y, '--', linewidth=2, label=r'Exact')\n",
    "\n",
    "    f = str(num_terms) + '-Term Fourier Expansion'\n",
    "    plt.plot(t, approx, linewidth=2, label=f)\n",
    "\n",
    "    plt.ylim(-1.5,2.5)\n",
    "\n",
    "    leg = plt.legend(loc='upper right', ncol = 1, fancybox=True)\n",
    "    ltext  = leg.get_texts() \n",
    "    plt.setp(ltext,family='Serif',fontsize=18)"
   ]
  },
  {
   "cell_type": "markdown",
   "id": "6ed75cca",
   "metadata": {},
   "source": [
    "Print the interactive widget"
   ]
  },
  {
   "cell_type": "code",
   "execution_count": 6,
   "id": "28b4efa0",
   "metadata": {},
   "outputs": [
    {
     "data": {
      "application/vnd.jupyter.widget-view+json": {
       "model_id": "df858ce0fac848e3a64d7720f45e54cd",
       "version_major": 2,
       "version_minor": 0
      },
      "text/plain": [
       "interactive(children=(IntSlider(value=11, description='num_terms', max=22, min=1), Output()), _dom_classes=('w…"
      ]
     },
     "metadata": {},
     "output_type": "display_data"
    }
   ],
   "source": [
    "# Call the slider interaction\n",
    "#  num_terms changes in the number of terms in the Fourier Approx, allowing between 1 and 22\n",
    "interact(plot_approx, num_terms=(1, 22, 1));"
   ]
  },
  {
   "cell_type": "code",
   "execution_count": null,
   "id": "f774305a",
   "metadata": {},
   "outputs": [],
   "source": []
  }
 ],
 "metadata": {
  "kernelspec": {
   "display_name": "Python 3 (ipykernel)",
   "language": "python",
   "name": "python3"
  },
  "language_info": {
   "codemirror_mode": {
    "name": "ipython",
    "version": 3
   },
   "file_extension": ".py",
   "mimetype": "text/x-python",
   "name": "python",
   "nbconvert_exporter": "python",
   "pygments_lexer": "ipython3",
   "version": "3.8.3"
  }
 },
 "nbformat": 4,
 "nbformat_minor": 5
}
